{
  "nbformat": 4,
  "nbformat_minor": 0,
  "metadata": {
    "colab": {
      "provenance": [],
      "collapsed_sections": []
    },
    "kernelspec": {
      "name": "python3",
      "display_name": "Python 3"
    },
    "language_info": {
      "name": "python"
    }
  },
  "cells": [
    {
      "cell_type": "code",
      "execution_count": 45,
      "metadata": {
        "id": "UL6LWxXiBxrb"
      },
      "outputs": [],
      "source": [
        "#importing libraries\n",
        "import pandas as pd\n",
        "import numpy as np\n",
        "import matplotlib.pyplot as plt\n",
        "import seaborn as sns"
      ]
    },
    {
      "cell_type": "code",
      "source": [
        "#Read file\n",
        "data=pd.read_csv('/content/StudentsPerformance.csv')"
      ],
      "metadata": {
        "id": "w7qWi3-jCDLa"
      },
      "execution_count": 46,
      "outputs": []
    },
    {
      "cell_type": "code",
      "source": [
        "#print the given data\n",
        "data"
      ],
      "metadata": {
        "colab": {
          "base_uri": "https://localhost:8080/",
          "height": 485
        },
        "id": "jawTCHhEDR95",
        "outputId": "a0c6f1b0-6acf-47da-e75b-9bdc7a3cdd83"
      },
      "execution_count": 6,
      "outputs": [
        {
          "output_type": "execute_result",
          "data": {
            "text/plain": [
              "     gender race/ethnicity parental level of education         lunch  \\\n",
              "0    female        group C            some high school  free/reduced   \n",
              "1    female        group B                 high school  free/reduced   \n",
              "2    female        group B            some high school  free/reduced   \n",
              "3    female        group B                some college      standard   \n",
              "4    female        group C                some college  free/reduced   \n",
              "..      ...            ...                         ...           ...   \n",
              "995    male        group E                some college      standard   \n",
              "996    male        group A                some college      standard   \n",
              "997    male        group D                some college      standard   \n",
              "998    male        group E          associate's degree  free/reduced   \n",
              "999    male        group E           bachelor's degree      standard   \n",
              "\n",
              "    test preparation course  math score  reading score  writing score  \n",
              "0                      none           0             17             10  \n",
              "1                      none           8             24             23  \n",
              "2                      none          18             32             28  \n",
              "3                      none          11             38             32  \n",
              "4                      none          22             39             33  \n",
              "..                      ...         ...            ...            ...  \n",
              "995               completed          99             87             81  \n",
              "996               completed         100             96             86  \n",
              "997               completed         100             97             99  \n",
              "998               completed         100            100             93  \n",
              "999               completed         100            100            100  \n",
              "\n",
              "[1000 rows x 8 columns]"
            ],
            "text/html": [
              "\n",
              "  <div id=\"df-6285525d-eb2d-4c66-8702-0c733f3e8549\">\n",
              "    <div class=\"colab-df-container\">\n",
              "      <div>\n",
              "<style scoped>\n",
              "    .dataframe tbody tr th:only-of-type {\n",
              "        vertical-align: middle;\n",
              "    }\n",
              "\n",
              "    .dataframe tbody tr th {\n",
              "        vertical-align: top;\n",
              "    }\n",
              "\n",
              "    .dataframe thead th {\n",
              "        text-align: right;\n",
              "    }\n",
              "</style>\n",
              "<table border=\"1\" class=\"dataframe\">\n",
              "  <thead>\n",
              "    <tr style=\"text-align: right;\">\n",
              "      <th></th>\n",
              "      <th>gender</th>\n",
              "      <th>race/ethnicity</th>\n",
              "      <th>parental level of education</th>\n",
              "      <th>lunch</th>\n",
              "      <th>test preparation course</th>\n",
              "      <th>math score</th>\n",
              "      <th>reading score</th>\n",
              "      <th>writing score</th>\n",
              "    </tr>\n",
              "  </thead>\n",
              "  <tbody>\n",
              "    <tr>\n",
              "      <th>0</th>\n",
              "      <td>female</td>\n",
              "      <td>group C</td>\n",
              "      <td>some high school</td>\n",
              "      <td>free/reduced</td>\n",
              "      <td>none</td>\n",
              "      <td>0</td>\n",
              "      <td>17</td>\n",
              "      <td>10</td>\n",
              "    </tr>\n",
              "    <tr>\n",
              "      <th>1</th>\n",
              "      <td>female</td>\n",
              "      <td>group B</td>\n",
              "      <td>high school</td>\n",
              "      <td>free/reduced</td>\n",
              "      <td>none</td>\n",
              "      <td>8</td>\n",
              "      <td>24</td>\n",
              "      <td>23</td>\n",
              "    </tr>\n",
              "    <tr>\n",
              "      <th>2</th>\n",
              "      <td>female</td>\n",
              "      <td>group B</td>\n",
              "      <td>some high school</td>\n",
              "      <td>free/reduced</td>\n",
              "      <td>none</td>\n",
              "      <td>18</td>\n",
              "      <td>32</td>\n",
              "      <td>28</td>\n",
              "    </tr>\n",
              "    <tr>\n",
              "      <th>3</th>\n",
              "      <td>female</td>\n",
              "      <td>group B</td>\n",
              "      <td>some college</td>\n",
              "      <td>standard</td>\n",
              "      <td>none</td>\n",
              "      <td>11</td>\n",
              "      <td>38</td>\n",
              "      <td>32</td>\n",
              "    </tr>\n",
              "    <tr>\n",
              "      <th>4</th>\n",
              "      <td>female</td>\n",
              "      <td>group C</td>\n",
              "      <td>some college</td>\n",
              "      <td>free/reduced</td>\n",
              "      <td>none</td>\n",
              "      <td>22</td>\n",
              "      <td>39</td>\n",
              "      <td>33</td>\n",
              "    </tr>\n",
              "    <tr>\n",
              "      <th>...</th>\n",
              "      <td>...</td>\n",
              "      <td>...</td>\n",
              "      <td>...</td>\n",
              "      <td>...</td>\n",
              "      <td>...</td>\n",
              "      <td>...</td>\n",
              "      <td>...</td>\n",
              "      <td>...</td>\n",
              "    </tr>\n",
              "    <tr>\n",
              "      <th>995</th>\n",
              "      <td>male</td>\n",
              "      <td>group E</td>\n",
              "      <td>some college</td>\n",
              "      <td>standard</td>\n",
              "      <td>completed</td>\n",
              "      <td>99</td>\n",
              "      <td>87</td>\n",
              "      <td>81</td>\n",
              "    </tr>\n",
              "    <tr>\n",
              "      <th>996</th>\n",
              "      <td>male</td>\n",
              "      <td>group A</td>\n",
              "      <td>some college</td>\n",
              "      <td>standard</td>\n",
              "      <td>completed</td>\n",
              "      <td>100</td>\n",
              "      <td>96</td>\n",
              "      <td>86</td>\n",
              "    </tr>\n",
              "    <tr>\n",
              "      <th>997</th>\n",
              "      <td>male</td>\n",
              "      <td>group D</td>\n",
              "      <td>some college</td>\n",
              "      <td>standard</td>\n",
              "      <td>completed</td>\n",
              "      <td>100</td>\n",
              "      <td>97</td>\n",
              "      <td>99</td>\n",
              "    </tr>\n",
              "    <tr>\n",
              "      <th>998</th>\n",
              "      <td>male</td>\n",
              "      <td>group E</td>\n",
              "      <td>associate's degree</td>\n",
              "      <td>free/reduced</td>\n",
              "      <td>completed</td>\n",
              "      <td>100</td>\n",
              "      <td>100</td>\n",
              "      <td>93</td>\n",
              "    </tr>\n",
              "    <tr>\n",
              "      <th>999</th>\n",
              "      <td>male</td>\n",
              "      <td>group E</td>\n",
              "      <td>bachelor's degree</td>\n",
              "      <td>standard</td>\n",
              "      <td>completed</td>\n",
              "      <td>100</td>\n",
              "      <td>100</td>\n",
              "      <td>100</td>\n",
              "    </tr>\n",
              "  </tbody>\n",
              "</table>\n",
              "<p>1000 rows × 8 columns</p>\n",
              "</div>\n",
              "      <button class=\"colab-df-convert\" onclick=\"convertToInteractive('df-6285525d-eb2d-4c66-8702-0c733f3e8549')\"\n",
              "              title=\"Convert this dataframe to an interactive table.\"\n",
              "              style=\"display:none;\">\n",
              "        \n",
              "  <svg xmlns=\"http://www.w3.org/2000/svg\" height=\"24px\"viewBox=\"0 0 24 24\"\n",
              "       width=\"24px\">\n",
              "    <path d=\"M0 0h24v24H0V0z\" fill=\"none\"/>\n",
              "    <path d=\"M18.56 5.44l.94 2.06.94-2.06 2.06-.94-2.06-.94-.94-2.06-.94 2.06-2.06.94zm-11 1L8.5 8.5l.94-2.06 2.06-.94-2.06-.94L8.5 2.5l-.94 2.06-2.06.94zm10 10l.94 2.06.94-2.06 2.06-.94-2.06-.94-.94-2.06-.94 2.06-2.06.94z\"/><path d=\"M17.41 7.96l-1.37-1.37c-.4-.4-.92-.59-1.43-.59-.52 0-1.04.2-1.43.59L10.3 9.45l-7.72 7.72c-.78.78-.78 2.05 0 2.83L4 21.41c.39.39.9.59 1.41.59.51 0 1.02-.2 1.41-.59l7.78-7.78 2.81-2.81c.8-.78.8-2.07 0-2.86zM5.41 20L4 18.59l7.72-7.72 1.47 1.35L5.41 20z\"/>\n",
              "  </svg>\n",
              "      </button>\n",
              "      \n",
              "  <style>\n",
              "    .colab-df-container {\n",
              "      display:flex;\n",
              "      flex-wrap:wrap;\n",
              "      gap: 12px;\n",
              "    }\n",
              "\n",
              "    .colab-df-convert {\n",
              "      background-color: #E8F0FE;\n",
              "      border: none;\n",
              "      border-radius: 50%;\n",
              "      cursor: pointer;\n",
              "      display: none;\n",
              "      fill: #1967D2;\n",
              "      height: 32px;\n",
              "      padding: 0 0 0 0;\n",
              "      width: 32px;\n",
              "    }\n",
              "\n",
              "    .colab-df-convert:hover {\n",
              "      background-color: #E2EBFA;\n",
              "      box-shadow: 0px 1px 2px rgba(60, 64, 67, 0.3), 0px 1px 3px 1px rgba(60, 64, 67, 0.15);\n",
              "      fill: #174EA6;\n",
              "    }\n",
              "\n",
              "    [theme=dark] .colab-df-convert {\n",
              "      background-color: #3B4455;\n",
              "      fill: #D2E3FC;\n",
              "    }\n",
              "\n",
              "    [theme=dark] .colab-df-convert:hover {\n",
              "      background-color: #434B5C;\n",
              "      box-shadow: 0px 1px 3px 1px rgba(0, 0, 0, 0.15);\n",
              "      filter: drop-shadow(0px 1px 2px rgba(0, 0, 0, 0.3));\n",
              "      fill: #FFFFFF;\n",
              "    }\n",
              "  </style>\n",
              "\n",
              "      <script>\n",
              "        const buttonEl =\n",
              "          document.querySelector('#df-6285525d-eb2d-4c66-8702-0c733f3e8549 button.colab-df-convert');\n",
              "        buttonEl.style.display =\n",
              "          google.colab.kernel.accessAllowed ? 'block' : 'none';\n",
              "\n",
              "        async function convertToInteractive(key) {\n",
              "          const element = document.querySelector('#df-6285525d-eb2d-4c66-8702-0c733f3e8549');\n",
              "          const dataTable =\n",
              "            await google.colab.kernel.invokeFunction('convertToInteractive',\n",
              "                                                     [key], {});\n",
              "          if (!dataTable) return;\n",
              "\n",
              "          const docLinkHtml = 'Like what you see? Visit the ' +\n",
              "            '<a target=\"_blank\" href=https://colab.research.google.com/notebooks/data_table.ipynb>data table notebook</a>'\n",
              "            + ' to learn more about interactive tables.';\n",
              "          element.innerHTML = '';\n",
              "          dataTable['output_type'] = 'display_data';\n",
              "          await google.colab.output.renderOutput(dataTable, element);\n",
              "          const docLink = document.createElement('div');\n",
              "          docLink.innerHTML = docLinkHtml;\n",
              "          element.appendChild(docLink);\n",
              "        }\n",
              "      </script>\n",
              "    </div>\n",
              "  </div>\n",
              "  "
            ]
          },
          "metadata": {},
          "execution_count": 6
        }
      ]
    },
    {
      "cell_type": "code",
      "source": [
        "#   1. Find out how many males and females participated in the test?"
      ],
      "metadata": {
        "id": "0RI8OLMU1C8U"
      },
      "execution_count": null,
      "outputs": []
    },
    {
      "cell_type": "code",
      "source": [
        "#Finding the value counts in gender category.So we can find number of males and females.\n",
        "data['gender'].value_counts()\n",
        "  "
      ],
      "metadata": {
        "colab": {
          "base_uri": "https://localhost:8080/"
        },
        "id": "l_Igm8bLEQ6o",
        "outputId": "e242f63a-5d3d-4356-815c-71432559403b"
      },
      "execution_count": 47,
      "outputs": [
        {
          "output_type": "execute_result",
          "data": {
            "text/plain": [
              "female    518\n",
              "male      482\n",
              "Name: gender, dtype: int64"
            ]
          },
          "metadata": {},
          "execution_count": 47
        }
      ]
    },
    {
      "cell_type": "code",
      "source": [
        "# 2. What do you think about the students' parental level of education?"
      ],
      "metadata": {
        "id": "t3-gJOyb1pZa"
      },
      "execution_count": null,
      "outputs": []
    },
    {
      "cell_type": "code",
      "source": [
        "# Finding the value counts for parental level of education.\n",
        "data['parental level of education'].value_counts()"
      ],
      "metadata": {
        "colab": {
          "base_uri": "https://localhost:8080/"
        },
        "id": "Mv2wjbNfEZxh",
        "outputId": "29fc7523-60bd-4f47-bedb-8cb34262bc03"
      },
      "execution_count": 8,
      "outputs": [
        {
          "output_type": "execute_result",
          "data": {
            "text/plain": [
              "some college          226\n",
              "associate's degree    222\n",
              "high school           196\n",
              "some high school      179\n",
              "bachelor's degree     118\n",
              "master's degree        59\n",
              "Name: parental level of education, dtype: int64"
            ]
          },
          "metadata": {},
          "execution_count": 8
        }
      ]
    },
    {
      "cell_type": "markdown",
      "source": [
        "Based on the output 226 parents went to some college.222 parents having associate's degree.196 parents having high school education.179 parents having some high school education. 118 parents having bachelor's degree and only 59 parents having master's degree.From this we can conclude that most of them having a college degree. Only 37.5% parents having high school education.Majority of the parents are well educated. "
      ],
      "metadata": {
        "id": "dmcNURir2KEp"
      }
    },
    {
      "cell_type": "code",
      "source": [
        "#3a.Who scores the most on average for math, reading and writing based on gender"
      ],
      "metadata": {
        "id": "38RBZDWh3tHN"
      },
      "execution_count": null,
      "outputs": []
    },
    {
      "cell_type": "code",
      "source": [
        "df1=data.loc[data['gender'] == 'female', 'math score'].mean()\n",
        "df2=data.loc[data['gender'] == 'male', 'math score'].mean()\n",
        "print(\"Average of math score\\n\")\n",
        "print('Female:\\t',df1)\n",
        "print('Male:\\t',df2)"
      ],
      "metadata": {
        "id": "UBUDCsgDJCs3",
        "colab": {
          "base_uri": "https://localhost:8080/"
        },
        "outputId": "78e6c007-4dc1-4625-f5a7-d088baf8d732"
      },
      "execution_count": 17,
      "outputs": [
        {
          "output_type": "stream",
          "name": "stdout",
          "text": [
            "Average of math score\n",
            "\n",
            "Female:\t 63.37644787644788\n",
            "Male:\t 68.82157676348548\n"
          ]
        }
      ]
    },
    {
      "cell_type": "markdown",
      "source": [
        "Males having highest average"
      ],
      "metadata": {
        "id": "FdBo4vuL4Mog"
      }
    },
    {
      "cell_type": "code",
      "source": [
        "df3=data.loc[data['gender'] == 'female', 'reading score'].mean()\n",
        "df4=data.loc[data['gender'] == 'male', 'reading score'].mean()\n",
        "print(\"Average of reading score\\n\")\n",
        "print('Female:\\t',df3)\n",
        "print('Male:\\t',df4)"
      ],
      "metadata": {
        "colab": {
          "base_uri": "https://localhost:8080/"
        },
        "id": "Z0PeyIJdar4e",
        "outputId": "12eb2df1-e748-4d9c-e2f6-e13762a5f4f5"
      },
      "execution_count": 19,
      "outputs": [
        {
          "output_type": "stream",
          "name": "stdout",
          "text": [
            "Average of reading score\n",
            "\n",
            "Female:\t 72.59073359073359\n",
            "Male:\t 65.54564315352697\n"
          ]
        }
      ]
    },
    {
      "cell_type": "markdown",
      "source": [
        "Girls having highest average"
      ],
      "metadata": {
        "id": "8VcCF9jV4U4g"
      }
    },
    {
      "cell_type": "code",
      "source": [
        "df5=data.loc[data['gender'] == 'female', 'writing score'].mean()\n",
        "df6=data.loc[data['gender'] == 'male', 'writing score'].mean()\n",
        "print(\"Average of writing score\\n\")\n",
        "print('Female:\\t',df5)\n",
        "print('Male:\\t',df6)"
      ],
      "metadata": {
        "colab": {
          "base_uri": "https://localhost:8080/"
        },
        "id": "JpDPokKgb6fG",
        "outputId": "b363a065-4964-4fde-ca54-d55db942006d"
      },
      "execution_count": 21,
      "outputs": [
        {
          "output_type": "stream",
          "name": "stdout",
          "text": [
            "Average of writing score\n",
            "\n",
            "Female:\t 72.46718146718146\n",
            "Male:\t 63.446058091286304\n"
          ]
        }
      ]
    },
    {
      "cell_type": "markdown",
      "source": [
        "Females having highest average"
      ],
      "metadata": {
        "id": "PosJ1e9L4aAP"
      }
    },
    {
      "cell_type": "code",
      "source": [
        "# First we want to know the different types includedin test preparation course. From finding value count we get this consist of only 2 type ,ie 'none' & 'completed'\n",
        "\n",
        "data['test preparation course'].value_counts()"
      ],
      "metadata": {
        "colab": {
          "base_uri": "https://localhost:8080/"
        },
        "id": "DY_NGMUjl_NZ",
        "outputId": "21c950b8-79dc-4cc0-fbce-288b67b836a2"
      },
      "execution_count": 26,
      "outputs": [
        {
          "output_type": "execute_result",
          "data": {
            "text/plain": [
              "none         642\n",
              "completed    358\n",
              "Name: test preparation course, dtype: int64"
            ]
          },
          "metadata": {},
          "execution_count": 26
        }
      ]
    },
    {
      "cell_type": "code",
      "source": [
        "#3b.Who scores the most on average for math, reading and writing based on test preparation course"
      ],
      "metadata": {
        "id": "fH2fFDHE6LvC"
      },
      "execution_count": null,
      "outputs": []
    },
    {
      "cell_type": "code",
      "source": [
        "df7=data.loc[data['test preparation course'] == 'none', 'math score'].mean()\n",
        "df8=data.loc[data['test preparation course'] == 'completed', 'math score'].mean()\n",
        "print(\"Average of math score\\n\")\n",
        "print('None:\\t',df7)\n",
        "print('Completed:\\t',df8)\n"
      ],
      "metadata": {
        "colab": {
          "base_uri": "https://localhost:8080/"
        },
        "id": "3zH9Pigmmz-b",
        "outputId": "df77196d-15c2-43e9-de83-596a82c30629"
      },
      "execution_count": 28,
      "outputs": [
        {
          "output_type": "stream",
          "name": "stdout",
          "text": [
            "Average of math score\n",
            "\n",
            "None:\t 63.78971962616822\n",
            "Completed:\t 69.96648044692738\n"
          ]
        }
      ]
    },
    {
      "cell_type": "code",
      "source": [
        "df9=data.loc[data['test preparation course'] == 'none', 'reading score'].mean()\n",
        "df10=data.loc[data['test preparation course'] == 'completed', 'reading score'].mean()\n",
        "print(\"Average of reading score\\n\")\n",
        "print('None:\\t',df9)\n",
        "print('Completed:\\t',df10)\n"
      ],
      "metadata": {
        "colab": {
          "base_uri": "https://localhost:8080/"
        },
        "id": "va-f6TBlnx97",
        "outputId": "3b72a059-7def-4066-e542-4d68178ca169"
      },
      "execution_count": 30,
      "outputs": [
        {
          "output_type": "stream",
          "name": "stdout",
          "text": [
            "Average of reading score\n",
            "\n",
            "None:\t 66.41744548286604\n",
            "Completed:\t 74.17597765363128\n"
          ]
        }
      ]
    },
    {
      "cell_type": "code",
      "source": [
        "df11=data.loc[data['test preparation course'] == 'none', 'writing score'].mean()\n",
        "df12=data.loc[data['test preparation course'] == 'completed', 'writing score'].mean()\n",
        "print(\"Average of writing score\\n\")\n",
        "print('None:\\t',df11)\n",
        "print('Completed:\\t',df12)"
      ],
      "metadata": {
        "colab": {
          "base_uri": "https://localhost:8080/"
        },
        "id": "mI3b1fE6pYql",
        "outputId": "9f6c5234-1fec-4fae-9cdc-a72b13da3953"
      },
      "execution_count": 33,
      "outputs": [
        {
          "output_type": "stream",
          "name": "stdout",
          "text": [
            "Average of writing score\n",
            "\n",
            "None:\t 64.45794392523365\n",
            "Completed:\t 74.68435754189944\n"
          ]
        }
      ]
    },
    {
      "cell_type": "code",
      "source": [
        "#4a.What do you think about the scoring variation for math, reading and writing based on Gender"
      ],
      "metadata": {
        "id": "tEXzE8hP78xm"
      },
      "execution_count": null,
      "outputs": []
    },
    {
      "cell_type": "code",
      "source": [
        "df13=data.loc[data['gender'] == 'female', 'math score'].var()\n",
        "df14=data.loc[data['gender'] == 'male', 'math score'].var()\n",
        "print(\"Variance of math score\\n\")\n",
        "print('Female:\\t',df13)\n",
        "print('Male:\\t',df14)"
      ],
      "metadata": {
        "colab": {
          "base_uri": "https://localhost:8080/"
        },
        "id": "vPEivyVkp-NL",
        "outputId": "b1064f0d-b866-44dd-e100-87642e7073cc"
      },
      "execution_count": 35,
      "outputs": [
        {
          "output_type": "stream",
          "name": "stdout",
          "text": [
            "Variance of math score\n",
            "\n",
            "Female:\t 256.9585931607208\n",
            "Male:\t 211.88909688494752\n"
          ]
        }
      ]
    },
    {
      "cell_type": "code",
      "source": [
        "df15=data.loc[data['gender'] == 'female', 'reading score'].var()\n",
        "df16=data.loc[data['gender'] == 'male', 'reading score'].var()\n",
        "print(\"Variance of reading score\\n\")\n",
        "print('Female:\\t',df15)\n",
        "print('Male:\\t',df16)"
      ],
      "metadata": {
        "colab": {
          "base_uri": "https://localhost:8080/"
        },
        "id": "H8RWVT_hrTji",
        "outputId": "c3dfa618-402b-454d-abab-3f98cc76684d"
      },
      "execution_count": 36,
      "outputs": [
        {
          "output_type": "stream",
          "name": "stdout",
          "text": [
            "Variance of reading score\n",
            "\n",
            "Female:\t 207.67743814552327\n",
            "Male:\t 200.2110100844541\n"
          ]
        }
      ]
    },
    {
      "cell_type": "code",
      "source": [
        "df17=data.loc[data['gender'] == 'female', 'writing score'].var()\n",
        "df18=data.loc[data['gender'] == 'male', 'writing score'].var()\n",
        "print(\"Variance of writing score\\n\")\n",
        "print('Female:\\t',df17)\n",
        "print('Male:\\t',df18)"
      ],
      "metadata": {
        "colab": {
          "base_uri": "https://localhost:8080/"
        },
        "id": "msDxbs_AsK9_",
        "outputId": "5f4e5e4d-a0b3-41f4-95af-31f0abe231dc"
      },
      "execution_count": 37,
      "outputs": [
        {
          "output_type": "stream",
          "name": "stdout",
          "text": [
            "Variance of writing score\n",
            "\n",
            "Female:\t 220.36932705017813\n",
            "Male:\t 202.4139241379905\n"
          ]
        }
      ]
    },
    {
      "cell_type": "code",
      "source": [
        "#4b.What do you think about the scoring variation for math, reading and writing based on Test preparation course"
      ],
      "metadata": {
        "id": "CO8iza7E8JTC"
      },
      "execution_count": null,
      "outputs": []
    },
    {
      "cell_type": "code",
      "source": [
        "df19=data.loc[data['test preparation course'] == 'none', 'math score'].var()\n",
        "df20=data.loc[data['test preparation course'] == 'completed', 'math score'].var()\n",
        "print(\"Variance of math score\\n\")\n",
        "print('None:\\t',df19)\n",
        "print('Completed:\\t',df20)\n"
      ],
      "metadata": {
        "colab": {
          "base_uri": "https://localhost:8080/"
        },
        "id": "P8mG1P57sjkZ",
        "outputId": "24dda72d-2da5-463c-9e87-0b5ed44d5415"
      },
      "execution_count": 38,
      "outputs": [
        {
          "output_type": "stream",
          "name": "stdout",
          "text": [
            "Variance of math score\n",
            "\n",
            "None:\t 246.668661699739\n",
            "Completed:\t 210.88402735395837\n"
          ]
        }
      ]
    },
    {
      "cell_type": "code",
      "source": [
        "df21=data.loc[data['test preparation course'] == 'none', 'reading score'].var()\n",
        "df22=data.loc[data['test preparation course'] == 'completed', 'reading score'].var()\n",
        "print(\"Variance of reading score\\n\")\n",
        "print('None:\\t',df21)\n",
        "print('Completed:\\t',df22)"
      ],
      "metadata": {
        "colab": {
          "base_uri": "https://localhost:8080/"
        },
        "id": "FK4E9i8is-kk",
        "outputId": "2e1f7ecb-26c1-4033-8c85-34a58c358f9e"
      },
      "execution_count": 40,
      "outputs": [
        {
          "output_type": "stream",
          "name": "stdout",
          "text": [
            "Variance of reading score\n",
            "\n",
            "None:\t 213.41985118657084\n",
            "Completed:\t 183.2658638874544\n"
          ]
        }
      ]
    },
    {
      "cell_type": "code",
      "source": [
        "df23=data.loc[data['test preparation course'] == 'none', 'writing score'].var()\n",
        "df24=data.loc[data['test preparation course'] == 'completed', 'writing score'].var()\n",
        "print(\"Variance of writing score\\n\")\n",
        "print('None:\\t',df23)\n",
        "print('Completed:\\t',df24)"
      ],
      "metadata": {
        "colab": {
          "base_uri": "https://localhost:8080/"
        },
        "id": "WeEI_lFFtQR8",
        "outputId": "cfd7ea49-e7ad-48cb-f991-af382828d721"
      },
      "execution_count": 41,
      "outputs": [
        {
          "output_type": "stream",
          "name": "stdout",
          "text": [
            "Variance of writing score\n",
            "\n",
            "None:\t 226.25173866767753\n",
            "Completed:\t 175.20261177096538\n"
          ]
        }
      ]
    },
    {
      "cell_type": "code",
      "source": [
        "#5.The management needs your help to give bonus points to the top 25% of students based on their math score, so how will you help the management to achieve this."
      ],
      "metadata": {
        "id": "4cD8vb-x7480"
      },
      "execution_count": null,
      "outputs": []
    },
    {
      "cell_type": "code",
      "source": [
        "new_data= data.sort_values(['math score'], ascending=[False])\n",
        "new_data.head(250)"
      ],
      "metadata": {
        "colab": {
          "base_uri": "https://localhost:8080/",
          "height": 485
        },
        "id": "zRz6y-FptxvY",
        "outputId": "12a4b840-42b8-4445-cc46-fd3166d83922"
      },
      "execution_count": 44,
      "outputs": [
        {
          "output_type": "execute_result",
          "data": {
            "text/plain": [
              "     gender race/ethnicity parental level of education         lunch  \\\n",
              "999    male        group E           bachelor's degree      standard   \n",
              "996    male        group A                some college      standard   \n",
              "515  female        group E                some college      standard   \n",
              "517  female        group E          associate's degree      standard   \n",
              "516  female        group E           bachelor's degree      standard   \n",
              "..      ...            ...                         ...           ...   \n",
              "856    male        group E            some high school      standard   \n",
              "855    male        group E          associate's degree  free/reduced   \n",
              "854    male        group D            some high school      standard   \n",
              "853    male        group D          associate's degree  free/reduced   \n",
              "852    male        group D                some college  free/reduced   \n",
              "\n",
              "    test preparation course  math score  reading score  writing score  \n",
              "999               completed         100            100            100  \n",
              "996               completed         100             96             86  \n",
              "515                    none         100             92             97  \n",
              "517                    none         100            100            100  \n",
              "516                    none         100            100            100  \n",
              "..                      ...         ...            ...            ...  \n",
              "856               completed          77             76             77  \n",
              "855               completed          77             69             68  \n",
              "854               completed          77             68             69  \n",
              "853                    none          77             78             73  \n",
              "852                    none          77             62             64  \n",
              "\n",
              "[250 rows x 8 columns]"
            ],
            "text/html": [
              "\n",
              "  <div id=\"df-83c6f3e4-83c9-4d9a-91d4-b2d90018f688\">\n",
              "    <div class=\"colab-df-container\">\n",
              "      <div>\n",
              "<style scoped>\n",
              "    .dataframe tbody tr th:only-of-type {\n",
              "        vertical-align: middle;\n",
              "    }\n",
              "\n",
              "    .dataframe tbody tr th {\n",
              "        vertical-align: top;\n",
              "    }\n",
              "\n",
              "    .dataframe thead th {\n",
              "        text-align: right;\n",
              "    }\n",
              "</style>\n",
              "<table border=\"1\" class=\"dataframe\">\n",
              "  <thead>\n",
              "    <tr style=\"text-align: right;\">\n",
              "      <th></th>\n",
              "      <th>gender</th>\n",
              "      <th>race/ethnicity</th>\n",
              "      <th>parental level of education</th>\n",
              "      <th>lunch</th>\n",
              "      <th>test preparation course</th>\n",
              "      <th>math score</th>\n",
              "      <th>reading score</th>\n",
              "      <th>writing score</th>\n",
              "    </tr>\n",
              "  </thead>\n",
              "  <tbody>\n",
              "    <tr>\n",
              "      <th>999</th>\n",
              "      <td>male</td>\n",
              "      <td>group E</td>\n",
              "      <td>bachelor's degree</td>\n",
              "      <td>standard</td>\n",
              "      <td>completed</td>\n",
              "      <td>100</td>\n",
              "      <td>100</td>\n",
              "      <td>100</td>\n",
              "    </tr>\n",
              "    <tr>\n",
              "      <th>996</th>\n",
              "      <td>male</td>\n",
              "      <td>group A</td>\n",
              "      <td>some college</td>\n",
              "      <td>standard</td>\n",
              "      <td>completed</td>\n",
              "      <td>100</td>\n",
              "      <td>96</td>\n",
              "      <td>86</td>\n",
              "    </tr>\n",
              "    <tr>\n",
              "      <th>515</th>\n",
              "      <td>female</td>\n",
              "      <td>group E</td>\n",
              "      <td>some college</td>\n",
              "      <td>standard</td>\n",
              "      <td>none</td>\n",
              "      <td>100</td>\n",
              "      <td>92</td>\n",
              "      <td>97</td>\n",
              "    </tr>\n",
              "    <tr>\n",
              "      <th>517</th>\n",
              "      <td>female</td>\n",
              "      <td>group E</td>\n",
              "      <td>associate's degree</td>\n",
              "      <td>standard</td>\n",
              "      <td>none</td>\n",
              "      <td>100</td>\n",
              "      <td>100</td>\n",
              "      <td>100</td>\n",
              "    </tr>\n",
              "    <tr>\n",
              "      <th>516</th>\n",
              "      <td>female</td>\n",
              "      <td>group E</td>\n",
              "      <td>bachelor's degree</td>\n",
              "      <td>standard</td>\n",
              "      <td>none</td>\n",
              "      <td>100</td>\n",
              "      <td>100</td>\n",
              "      <td>100</td>\n",
              "    </tr>\n",
              "    <tr>\n",
              "      <th>...</th>\n",
              "      <td>...</td>\n",
              "      <td>...</td>\n",
              "      <td>...</td>\n",
              "      <td>...</td>\n",
              "      <td>...</td>\n",
              "      <td>...</td>\n",
              "      <td>...</td>\n",
              "      <td>...</td>\n",
              "    </tr>\n",
              "    <tr>\n",
              "      <th>856</th>\n",
              "      <td>male</td>\n",
              "      <td>group E</td>\n",
              "      <td>some high school</td>\n",
              "      <td>standard</td>\n",
              "      <td>completed</td>\n",
              "      <td>77</td>\n",
              "      <td>76</td>\n",
              "      <td>77</td>\n",
              "    </tr>\n",
              "    <tr>\n",
              "      <th>855</th>\n",
              "      <td>male</td>\n",
              "      <td>group E</td>\n",
              "      <td>associate's degree</td>\n",
              "      <td>free/reduced</td>\n",
              "      <td>completed</td>\n",
              "      <td>77</td>\n",
              "      <td>69</td>\n",
              "      <td>68</td>\n",
              "    </tr>\n",
              "    <tr>\n",
              "      <th>854</th>\n",
              "      <td>male</td>\n",
              "      <td>group D</td>\n",
              "      <td>some high school</td>\n",
              "      <td>standard</td>\n",
              "      <td>completed</td>\n",
              "      <td>77</td>\n",
              "      <td>68</td>\n",
              "      <td>69</td>\n",
              "    </tr>\n",
              "    <tr>\n",
              "      <th>853</th>\n",
              "      <td>male</td>\n",
              "      <td>group D</td>\n",
              "      <td>associate's degree</td>\n",
              "      <td>free/reduced</td>\n",
              "      <td>none</td>\n",
              "      <td>77</td>\n",
              "      <td>78</td>\n",
              "      <td>73</td>\n",
              "    </tr>\n",
              "    <tr>\n",
              "      <th>852</th>\n",
              "      <td>male</td>\n",
              "      <td>group D</td>\n",
              "      <td>some college</td>\n",
              "      <td>free/reduced</td>\n",
              "      <td>none</td>\n",
              "      <td>77</td>\n",
              "      <td>62</td>\n",
              "      <td>64</td>\n",
              "    </tr>\n",
              "  </tbody>\n",
              "</table>\n",
              "<p>250 rows × 8 columns</p>\n",
              "</div>\n",
              "      <button class=\"colab-df-convert\" onclick=\"convertToInteractive('df-83c6f3e4-83c9-4d9a-91d4-b2d90018f688')\"\n",
              "              title=\"Convert this dataframe to an interactive table.\"\n",
              "              style=\"display:none;\">\n",
              "        \n",
              "  <svg xmlns=\"http://www.w3.org/2000/svg\" height=\"24px\"viewBox=\"0 0 24 24\"\n",
              "       width=\"24px\">\n",
              "    <path d=\"M0 0h24v24H0V0z\" fill=\"none\"/>\n",
              "    <path d=\"M18.56 5.44l.94 2.06.94-2.06 2.06-.94-2.06-.94-.94-2.06-.94 2.06-2.06.94zm-11 1L8.5 8.5l.94-2.06 2.06-.94-2.06-.94L8.5 2.5l-.94 2.06-2.06.94zm10 10l.94 2.06.94-2.06 2.06-.94-2.06-.94-.94-2.06-.94 2.06-2.06.94z\"/><path d=\"M17.41 7.96l-1.37-1.37c-.4-.4-.92-.59-1.43-.59-.52 0-1.04.2-1.43.59L10.3 9.45l-7.72 7.72c-.78.78-.78 2.05 0 2.83L4 21.41c.39.39.9.59 1.41.59.51 0 1.02-.2 1.41-.59l7.78-7.78 2.81-2.81c.8-.78.8-2.07 0-2.86zM5.41 20L4 18.59l7.72-7.72 1.47 1.35L5.41 20z\"/>\n",
              "  </svg>\n",
              "      </button>\n",
              "      \n",
              "  <style>\n",
              "    .colab-df-container {\n",
              "      display:flex;\n",
              "      flex-wrap:wrap;\n",
              "      gap: 12px;\n",
              "    }\n",
              "\n",
              "    .colab-df-convert {\n",
              "      background-color: #E8F0FE;\n",
              "      border: none;\n",
              "      border-radius: 50%;\n",
              "      cursor: pointer;\n",
              "      display: none;\n",
              "      fill: #1967D2;\n",
              "      height: 32px;\n",
              "      padding: 0 0 0 0;\n",
              "      width: 32px;\n",
              "    }\n",
              "\n",
              "    .colab-df-convert:hover {\n",
              "      background-color: #E2EBFA;\n",
              "      box-shadow: 0px 1px 2px rgba(60, 64, 67, 0.3), 0px 1px 3px 1px rgba(60, 64, 67, 0.15);\n",
              "      fill: #174EA6;\n",
              "    }\n",
              "\n",
              "    [theme=dark] .colab-df-convert {\n",
              "      background-color: #3B4455;\n",
              "      fill: #D2E3FC;\n",
              "    }\n",
              "\n",
              "    [theme=dark] .colab-df-convert:hover {\n",
              "      background-color: #434B5C;\n",
              "      box-shadow: 0px 1px 3px 1px rgba(0, 0, 0, 0.15);\n",
              "      filter: drop-shadow(0px 1px 2px rgba(0, 0, 0, 0.3));\n",
              "      fill: #FFFFFF;\n",
              "    }\n",
              "  </style>\n",
              "\n",
              "      <script>\n",
              "        const buttonEl =\n",
              "          document.querySelector('#df-83c6f3e4-83c9-4d9a-91d4-b2d90018f688 button.colab-df-convert');\n",
              "        buttonEl.style.display =\n",
              "          google.colab.kernel.accessAllowed ? 'block' : 'none';\n",
              "\n",
              "        async function convertToInteractive(key) {\n",
              "          const element = document.querySelector('#df-83c6f3e4-83c9-4d9a-91d4-b2d90018f688');\n",
              "          const dataTable =\n",
              "            await google.colab.kernel.invokeFunction('convertToInteractive',\n",
              "                                                     [key], {});\n",
              "          if (!dataTable) return;\n",
              "\n",
              "          const docLinkHtml = 'Like what you see? Visit the ' +\n",
              "            '<a target=\"_blank\" href=https://colab.research.google.com/notebooks/data_table.ipynb>data table notebook</a>'\n",
              "            + ' to learn more about interactive tables.';\n",
              "          element.innerHTML = '';\n",
              "          dataTable['output_type'] = 'display_data';\n",
              "          await google.colab.output.renderOutput(dataTable, element);\n",
              "          const docLink = document.createElement('div');\n",
              "          docLink.innerHTML = docLinkHtml;\n",
              "          element.appendChild(docLink);\n",
              "        }\n",
              "      </script>\n",
              "    </div>\n",
              "  </div>\n",
              "  "
            ]
          },
          "metadata": {},
          "execution_count": 44
        }
      ]
    },
    {
      "cell_type": "code",
      "source": [],
      "metadata": {
        "id": "WJAEabVRwEFn"
      },
      "execution_count": null,
      "outputs": []
    }
  ]
}